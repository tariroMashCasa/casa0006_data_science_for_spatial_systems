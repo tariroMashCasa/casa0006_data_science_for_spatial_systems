{
 "cells": [
  {
   "cell_type": "code",
   "execution_count": null,
   "id": "ae5b8b76-54f0-40a9-a406-c74e05e24150",
   "metadata": {},
   "outputs": [],
   "source": [
    "import pandas as pd\n",
    "import geopandas as gp\n",
    "import matplotlib"
   ]
  },
  {
   "cell_type": "code",
   "execution_count": null,
   "id": "a6e65ccf-7bfc-4242-89f2-056192ced2d4",
   "metadata": {},
   "outputs": [],
   "source": [
    "# load london gdf\n",
    "london_boundary_gdf = gp.read_file(\"data/reference_geometries/london_lad.geojson\").to_crs(4326) # convert to WGS84\n",
    "london_boundary_gdf\n",
    "# combine the london_boundary_gdf to a single geometry\n",
    "london_boundary_gdf[\"city\"] = \"london\"\n",
    "london_boundary_gdf = london_boundary_gdf[[\"city\",\"geometry\"]].dissolve(\"city\").reset_index().to_crs(27700)\n",
    "london_boundary_gdf.geometry = london_boundary_gdf.geometry.buffer(1000)\n",
    "london_boundary_gdf = london_boundary_gdf.to_crs(4326)"
   ]
  },
  {
   "cell_type": "code",
   "execution_count": null,
   "id": "b5206111-e1c9-40f7-b1b1-2b54da3c53d3",
   "metadata": {},
   "outputs": [],
   "source": [
    "# load an MSOA file which has the geography code\n",
    "msoa_gdf = gp.read_file(\"data/reference_geometries/msoa_2011_geometries.geojson\")\n",
    "msoa_gdf = msoa_gdf.rename(columns={\"MSOA11CD\":\"geography code\"})[[\"geography code\",\"geometry\"]]\n",
    "msoa_gdf"
   ]
  },
  {
   "cell_type": "code",
   "execution_count": null,
   "id": "19a59427-b8d3-424a-b9e0-c31a8a7553a9",
   "metadata": {},
   "outputs": [],
   "source": [
    "msoa_gdf = msoa_gdf.sjoin(london_boundary_gdf, predicate=\"within\").drop(columns=\"index_right\").reset_index().drop(columns=\"index\")\n",
    "msoa_gdf"
   ]
  },
  {
   "cell_type": "code",
   "execution_count": null,
   "id": "726ccb25-a137-444f-be76-49286456c863",
   "metadata": {},
   "outputs": [],
   "source": [
    "msoa_gdf.explore()"
   ]
  },
  {
   "cell_type": "code",
   "execution_count": null,
   "id": "3ccb1e75-4954-463e-acda-9ee82edf6e99",
   "metadata": {},
   "outputs": [],
   "source": [
    "gdf = gp.read_file(\"data/osm/greater_london_multilinestrings.shp\")\n",
    "# gdf.to_file(\"greater_london_multilinestrings.geojson\", driver=\"GeoJSON\")"
   ]
  },
  {
   "cell_type": "code",
   "execution_count": null,
   "id": "605adf6d-5019-4eca-8ebf-95bfc8a2739f",
   "metadata": {},
   "outputs": [],
   "source": [
    "bus_routes_gdf = gdf[gdf.other_tags.astype(str).str.contains(\"bus\")]\n",
    "bus_route_counts_df = bus_routes_gdf.sjoin(msoa_gdf)[[\"geography code\",\"osm_id\"]].groupby(\"geography code\").nunique().rename(columns={\"osm_id\":\"num_bus_routes\"}).reset_index()\n",
    "bus_route_counts_df"
   ]
  },
  {
   "cell_type": "code",
   "execution_count": null,
   "id": "8c0b198a-5622-4c5f-a7d1-7862cd72c4fb",
   "metadata": {},
   "outputs": [],
   "source": [
    "train_routes_gdf = gdf[gdf.other_tags.astype(str).str.contains(\"train\")]\n",
    "train_route_counts_df = train_routes_gdf.sjoin(msoa_gdf)[[\"geography code\",\"osm_id\"]].groupby(\"geography code\").nunique().rename(columns={\"osm_id\":\"num_train_routes\"}).reset_index()\n",
    "train_route_counts_df"
   ]
  },
  {
   "cell_type": "code",
   "execution_count": null,
   "id": "66d391ec-49d9-4ec0-8950-1a8a6693cb1a",
   "metadata": {},
   "outputs": [],
   "source": [
    "cycle_routes_gdf = gdf[gdf.other_tags.astype(str).str.contains(\"cycle\")]\n",
    "cycle_route_counts_df = cycle_routes_gdf.sjoin(msoa_gdf)[[\"geography code\",\"osm_id\"]].groupby(\"geography code\").nunique().rename(columns={\"osm_id\":\"num_cycle_routes\"}).reset_index()\n",
    "cycle_route_counts_df"
   ]
  },
  {
   "cell_type": "code",
   "execution_count": null,
   "id": "55df836a-d204-40d7-b04e-be428bae7ea2",
   "metadata": {},
   "outputs": [],
   "source": [
    "# combine these together and save them as a stage file\n",
    "output_df = msoa_gdf[[\"geography code\"]].merge(bus_route_counts_df, on=\"geography code\", how=\"outer\").merge(train_route_counts_df, on=\"geography code\", how=\"outer\").merge(cycle_route_counts_df, on=\"geography code\", how=\"outer\").fillna(0)\n",
    "output_df"
   ]
  },
  {
   "cell_type": "markdown",
   "id": "f79328e0-7d51-460b-b0fe-52d39d492315",
   "metadata": {},
   "source": [
    "# Write to disk"
   ]
  },
  {
   "cell_type": "code",
   "execution_count": null,
   "id": "48d24805-5b20-46f3-a74f-885110115360",
   "metadata": {},
   "outputs": [],
   "source": [
    "%%time\n",
    "output_df.to_csv(\"data/staged_files/s1_osm_mobility_routes.csv\", index=False)"
   ]
  }
 ],
 "metadata": {
  "kernelspec": {
   "display_name": "Python 3 (ipykernel)",
   "language": "python",
   "name": "python3"
  },
  "language_info": {
   "codemirror_mode": {
    "name": "ipython",
    "version": 3
   },
   "file_extension": ".py",
   "mimetype": "text/x-python",
   "name": "python",
   "nbconvert_exporter": "python",
   "pygments_lexer": "ipython3",
   "version": "3.10.14"
  }
 },
 "nbformat": 4,
 "nbformat_minor": 5
}
