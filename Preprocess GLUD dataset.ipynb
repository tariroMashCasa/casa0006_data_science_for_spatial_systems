{
 "cells": [
  {
   "cell_type": "code",
   "execution_count": null,
   "id": "f9fcf622-6c2b-44cc-abcf-55ac4009e5b5",
   "metadata": {},
   "outputs": [],
   "source": [
    "import pandas as pd\n",
    "import geopandas as gp\n",
    "import matplotlib"
   ]
  },
  {
   "cell_type": "code",
   "execution_count": null,
   "id": "88508748-690c-4d53-b3f6-b248d47a9ad4",
   "metadata": {},
   "outputs": [],
   "source": [
    "# load the reference csv\n",
    "glud_mapping_to_lsoa_df = pd.read_csv(\"data/mapping_files/Lower_Layer_Super_Output_Area_(2001)_to_Ward_(2005)_Lookup_in_England_and_Wales.csv\")\n",
    "glud_mapping_to_lsoa_df"
   ]
  },
  {
   "cell_type": "code",
   "execution_count": null,
   "id": "4b48b5fc-180e-482e-80ca-e59d58573fc4",
   "metadata": {},
   "outputs": [],
   "source": [
    "# load the lsoa file from 2001\n",
    "lsoa_2001_gdf = gp.read_file(\"data/reference_geometries/lsoa_2001.geojson\")"
   ]
  },
  {
   "cell_type": "code",
   "execution_count": null,
   "id": "9856226d-68f4-4813-8815-f2b3da157417",
   "metadata": {},
   "outputs": [],
   "source": [
    "lsoa_2001_gdf.head()"
   ]
  },
  {
   "cell_type": "code",
   "execution_count": null,
   "id": "d391f05c-a8a8-44ea-8cef-8dae35c1992e",
   "metadata": {},
   "outputs": [],
   "source": [
    "# merge the mapping to the lsoas\n",
    "lsoa_2001_w_ward_2005_names_gdf = lsoa_2001_gdf.merge(glud_mapping_to_lsoa_df[[\"LSOA01CD\",\"WD05CD\",\"WD05NM\"]], on=\"LSOA01CD\",how=\"inner\")\n"
   ]
  },
  {
   "cell_type": "code",
   "execution_count": null,
   "id": "913a5781-9b46-403f-94af-f37ae292ea37",
   "metadata": {},
   "outputs": [],
   "source": [
    "# dissolve these to create a file which is just the ward codes\n",
    "ward_2005_gdf = lsoa_2001_w_ward_2005_names_gdf[[\"WD05CD\",\"WD05NM\",\"geometry\"]].dissolve([\"WD05CD\",\"WD05NM\"]).reset_index()"
   ]
  },
  {
   "cell_type": "code",
   "execution_count": null,
   "id": "46e2dc10-9439-4610-aad9-33a2c26dfee7",
   "metadata": {},
   "outputs": [],
   "source": [
    "# save this to disk as a stage file\n",
    "ward_2005_gdf.to_file(\"data/staged_files/s1_ward_2005_geometry_file_for_GLUD_analysis.geojson\", driver=\"GeoJSON\")"
   ]
  },
  {
   "cell_type": "code",
   "execution_count": null,
   "id": "861d911c-6b0e-4668-98df-75037ba0ce32",
   "metadata": {},
   "outputs": [],
   "source": [
    "ward_2005_gdf_poly = ward_2005_gdf.copy()\n",
    "ward_2005_gdf_poly.loc[ward_2005_gdf_poly.WD05CD.str.startswith(\"00AA\"),\"WD05CD\"] = \"00AA\"\n",
    "ward_2005_gdf.geometry = ward_2005_gdf.geometry.centroid\n"
   ]
  },
  {
   "cell_type": "markdown",
   "id": "a0f5e363-5aa0-4a1c-aa15-087728d7826d",
   "metadata": {},
   "source": [
    "# Making the actual table for the regression "
   ]
  },
  {
   "cell_type": "code",
   "execution_count": null,
   "id": "01e296a3-b8ec-471e-882b-6cb632301699",
   "metadata": {},
   "outputs": [],
   "source": [
    "# load london gdf\n",
    "london_boundary_gdf = gp.read_file(\"data/reference_geometries/london_lad.geojson\").to_crs(4326) # convert to WGS84\n",
    "london_boundary_gdf\n",
    "# combine the london_boundary_gdf to a single geometry\n",
    "london_boundary_gdf[\"city\"] = \"london\"\n",
    "london_boundary_gdf = london_boundary_gdf[[\"city\",\"geometry\"]].dissolve(\"city\").reset_index().to_crs(27700)\n",
    "london_boundary_gdf.geometry = london_boundary_gdf.geometry.buffer(1000)\n",
    "london_boundary_gdf = london_boundary_gdf.to_crs(4326)"
   ]
  },
  {
   "cell_type": "code",
   "execution_count": null,
   "id": "b4be0c79-c5f5-4a07-b838-e04c3e773e0b",
   "metadata": {},
   "outputs": [],
   "source": [
    "# load an MSOA file which has the geography code\n",
    "msoa_gdf = gp.read_file(\"data/reference_geometries/msoa_2011_geometries.geojson\")\n",
    "msoa_gdf = msoa_gdf.rename(columns={\"MSOA11CD\":\"geography code\"})[[\"geography code\",\"geometry\"]]\n",
    "msoa_gdf"
   ]
  },
  {
   "cell_type": "code",
   "execution_count": null,
   "id": "a09af6df-cb76-46d8-89b3-be51e47e94ad",
   "metadata": {},
   "outputs": [],
   "source": [
    "\n",
    "msoa_gdf = msoa_gdf.sjoin(london_boundary_gdf, predicate=\"within\").drop(columns=\"index_right\").reset_index().drop(columns=\"index\")\n",
    "msoa_gdf[\"msoa_area\"] = msoa_gdf.to_crs(27700).geometry.area\n",
    "msoa_gdf"
   ]
  },
  {
   "cell_type": "code",
   "execution_count": null,
   "id": "c392052b-2772-4d7e-b0f9-5b80ea6a9a35",
   "metadata": {},
   "outputs": [],
   "source": [
    "msoa_gdf.head(2).tail(1).explore()"
   ]
  },
  {
   "cell_type": "code",
   "execution_count": null,
   "id": "296900e0-be91-4217-85b7-0688b3b178b0",
   "metadata": {},
   "outputs": [],
   "source": [
    "# get the mapping of which wards are in which MSOAs using their centroids\n",
    "ward_2005_gdf_mapped_to_msoas = ward_2005_gdf.sjoin(msoa_gdf,predicate=\"within\").drop(columns=\"index_right\")\n",
    "ward_2005_gdf_mapped_to_msoas\n",
    "# add "
   ]
  },
  {
   "cell_type": "code",
   "execution_count": null,
   "id": "d1ad8eab-a951-4d99-8e2c-3b1d2571fa41",
   "metadata": {},
   "outputs": [],
   "source": [
    "# for the wards in city of London we will manually adjust them - so anything that starst with 00AA\n",
    "ward_2005_gdf_mapped_to_msoas.loc[ward_2005_gdf_mapped_to_msoas.WD05CD.str.startswith(\"00AA\"),\"WD05CD\"] = \"00AA\""
   ]
  },
  {
   "cell_type": "code",
   "execution_count": null,
   "id": "e47ff7af-93d0-453d-bd3e-d75503390d9b",
   "metadata": {},
   "outputs": [],
   "source": [
    "# load the GLUD data itself\n",
    "glud_data_df = pd.read_csv(\"data/glud/land-use-glud-ward.csv\").rename(columns={\"Area Code\":\"WD05CD\"})\n",
    "glud_data_df"
   ]
  },
  {
   "cell_type": "code",
   "execution_count": null,
   "id": "3af6a323-185d-4f55-8122-018e1d44e57c",
   "metadata": {},
   "outputs": [],
   "source": [
    "# as city of Lodnon is missing for some reason "
   ]
  },
  {
   "cell_type": "code",
   "execution_count": null,
   "id": "d2557d34-d19b-42db-a465-bad95249d326",
   "metadata": {},
   "outputs": [],
   "source": [
    "glud_data_gdf = ward_2005_gdf_mapped_to_msoas.merge(glud_data_df, on=\"WD05CD\")\n",
    "glud_data_gdf = glud_data_gdf.drop(columns=['WD05CD', 'WD05NM',\"city\",\"msoa_area\",'Local Authority Name', 'Area name'])\n",
    "glud_data_gdf.columns = [x.replace(\"%\",\"pct\").lower().replace(\" \",\"_\") for x in glud_data_gdf.columns]\n",
    "glud_data_gdf = glud_data_gdf.drop(columns=[\"pct_total_area_of_all_land_types\",\"quality_of_fit_indicator\"])\n",
    "glud_data_gdf"
   ]
  },
  {
   "cell_type": "code",
   "execution_count": null,
   "id": "a2023867-94b5-4a61-b5d3-1a5e797e7c65",
   "metadata": {},
   "outputs": [],
   "source": [
    "glud_data_gdf = glud_data_gdf.drop_duplicates(\"geography_code\")\n",
    "glud_data_gdf.explore()"
   ]
  },
  {
   "cell_type": "code",
   "execution_count": null,
   "id": "131eb067-45b3-4ec5-a168-0fb688075529",
   "metadata": {},
   "outputs": [],
   "source": [
    "poly_msoas_gdf = ward_2005_gdf_poly.merge(ward_2005_gdf_mapped_to_msoas.drop(columns=\"geometry\"), on=[\"WD05CD\",\"WD05NM\"])[[\"geography code\",\"geometry\"]].dissolve(\"geography code\").reset_index().rename(columns={\"geography code\":\"geography_code\"})"
   ]
  },
  {
   "cell_type": "code",
   "execution_count": null,
   "id": "676b0f18-d3e0-4f9d-99ff-b2197f370719",
   "metadata": {},
   "outputs": [],
   "source": [
    "output_glud_data_gdf = poly_msoas_gdf.merge(glud_data_gdf.drop(columns=\"geometry\"), on=\"geography_code\")\n",
    "output_glud_data_gdf"
   ]
  },
  {
   "cell_type": "code",
   "execution_count": null,
   "id": "1e3e007c-8d06-44da-a05a-f34026161889",
   "metadata": {},
   "outputs": [],
   "source": [
    "output_glud_data_gdf.explore(\"area_of_greenspace\")"
   ]
  },
  {
   "cell_type": "markdown",
   "id": "f0ea0ff3-f422-4c71-b62f-2ef0c3ab1a82",
   "metadata": {},
   "source": [
    "# Write this to disk"
   ]
  },
  {
   "cell_type": "code",
   "execution_count": null,
   "id": "9cc71501-4255-4459-a856-14777c1428cf",
   "metadata": {},
   "outputs": [],
   "source": [
    "%%time\n",
    "output_glud_data_gdf[\"geometry\"] = output_glud_data_gdf[\"geometry\"].to_wkt()\n",
    "output_glud_data_gdf.to_csv(\"data/staged_files/s1_glud_land_cover_data_msoa_level.csv\", index=False)"
   ]
  },
  {
   "cell_type": "code",
   "execution_count": null,
   "id": "738553ef-a1fe-4f43-ae4f-5998fcd314fa",
   "metadata": {},
   "outputs": [],
   "source": []
  }
 ],
 "metadata": {
  "kernelspec": {
   "display_name": "Python 3 (ipykernel)",
   "language": "python",
   "name": "python3"
  },
  "language_info": {
   "codemirror_mode": {
    "name": "ipython",
    "version": 3
   },
   "file_extension": ".py",
   "mimetype": "text/x-python",
   "name": "python",
   "nbconvert_exporter": "python",
   "pygments_lexer": "ipython3",
   "version": "3.10.14"
  }
 },
 "nbformat": 4,
 "nbformat_minor": 5
}
