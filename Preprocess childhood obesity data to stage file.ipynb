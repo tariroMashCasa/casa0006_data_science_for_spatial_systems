{
 "cells": [
  {
   "cell_type": "code",
   "execution_count": null,
   "id": "6b10e496-d11d-45b3-88a2-a014cba90ae9",
   "metadata": {},
   "outputs": [],
   "source": [
    "import pandas as pd"
   ]
  },
  {
   "cell_type": "code",
   "execution_count": null,
   "id": "9f4083ca-649b-4f41-851c-6221f739bdd0",
   "metadata": {},
   "outputs": [],
   "source": [
    "# load the childhood obesity dataset from the raw excel\n",
    "childhood_obesity_df = pd.read_excel(\"data/target_data_obesity/MSOA_Ward_LA_Obesity.xlsx\", sheet_name=\"2011-12_2013-14\", skiprows=1)"
   ]
  },
  {
   "cell_type": "code",
   "execution_count": null,
   "id": "4203815e-da10-4fac-a1c7-2e1e8ee3b0c5",
   "metadata": {},
   "outputs": [],
   "source": [
    "first_five_column_values = childhood_obesity_df.head(2).tail(1).values.tolist()[0][:5]"
   ]
  },
  {
   "cell_type": "code",
   "execution_count": null,
   "id": "b2cf7261-0b43-4069-ab0d-2291f87b35d3",
   "metadata": {},
   "outputs": [],
   "source": [
    "current_column_values_minus_first_five= childhood_obesity_df.columns[5:].tolist()\n",
    "twenty_11_columns = current_column_values_minus_first_five[:12]\n",
    "twenty_11_columns_reception = [\"reception_4yrs_5yrs_old_\"+x for x in twenty_11_columns[:6]]\n",
    "twenty_11_columns_year_6 = [\"year_6_10yrs_11yrs_old_\"+x for x in twenty_11_columns[6:]]\n",
    "columns_to_keep = first_five_column_values + twenty_11_columns_reception + twenty_11_columns_year_6\n",
    "new_col_headers = first_five_column_values + current_column_values_minus_first_five\n",
    "new_col_headers"
   ]
  },
  {
   "cell_type": "code",
   "execution_count": null,
   "id": "719e4cd0-8ae0-4b2a-9d4f-a3a10b4c4dae",
   "metadata": {},
   "outputs": [],
   "source": [
    "childhood_obesity_df.columns = columns_to_keep + current_column_values_minus_first_five[12:]"
   ]
  },
  {
   "cell_type": "code",
   "execution_count": null,
   "id": "ea719225-b795-4016-84b3-3c2fbebf24fa",
   "metadata": {},
   "outputs": [],
   "source": [
    "childhood_obesity_df = childhood_obesity_df.tail(-2)\n"
   ]
  },
  {
   "cell_type": "code",
   "execution_count": null,
   "id": "dec2ba4b-1dae-46e7-9c2a-7a45bdea5def",
   "metadata": {},
   "outputs": [],
   "source": [
    "idx_cols = first_five_column_values\n",
    "childhood_obesity_int_df = childhood_obesity_df.melt(id_vars = idx_cols)\n",
    "childhood_obesity_int_df = childhood_obesity_int_df[~childhood_obesity_int_df.variable.str.contains(\"Unnamed\")]\n",
    "childhood_obesity_int_df = childhood_obesity_int_df[~childhood_obesity_int_df[\"value\"].isna()]\n",
    "childhood_obesity_int_df = childhood_obesity_int_df[~childhood_obesity_int_df[\"LA code\"].isna()]\n",
    "childhood_obesity_int_df = childhood_obesity_int_df[childhood_obesity_int_df[\"Geog Level\"]==\"MSOA\"]\n",
    "# drop anything without year 6 or recption in the column name\n",
    "childhood_obesity_int_df = childhood_obesity_int_df[childhood_obesity_int_df[\"variable\"].isin(columns_to_keep)]\n",
    "# only keep columns with the words obese or measured\n",
    "childhood_obesity_int_df = childhood_obesity_int_df[(childhood_obesity_int_df[\"variable\"].str.contains(\"obese\"))\n",
    "                                                    |(childhood_obesity_int_df[\"variable\"].str.contains(\"measured\"))]\n",
    "\n",
    "# clean up the column names and remove the .1 etc..\n",
    "childhood_obesity_int_df[\"variable\"] = childhood_obesity_int_df[\"variable\"].str.replace(\".1\",\"\")\n",
    "\n",
    "# pivot this back to normal now\n",
    "clean_childhood_obesity_df = childhood_obesity_int_df.pivot(index = idx_cols, columns = \"variable\", values=\"value\").reset_index()\n",
    "clean_childhood_obesity_df\n",
    "# childhood_obesity_int_df"
   ]
  },
  {
   "cell_type": "markdown",
   "id": "0e99e0b9-1a51-4c07-a1cb-39905659b400",
   "metadata": {},
   "source": [
    "# Write to disk"
   ]
  },
  {
   "cell_type": "code",
   "execution_count": null,
   "id": "67895d44-a720-4ac5-a7f3-0f5bdb4c812c",
   "metadata": {},
   "outputs": [],
   "source": [
    "%%time\n",
    "columns_to_drop = ['Geog Level',\n",
    "                     'Area name',\n",
    "                     'LA code',\n",
    "                     'LA name'\n",
    "                  ]\n",
    "output_df = clean_childhood_obesity_df.drop(columns=columns_to_drop).rename(columns={\"Code\":\"geography code\"})\n",
    "output_df.to_csv(\"data/staged_files/s1_clean_target_variable_childhood_obesity_dataset.csv\", index=False)"
   ]
  },
  {
   "cell_type": "code",
   "execution_count": null,
   "id": "59ba6cd7-71c9-44f8-8dce-7ee3a0f12f47",
   "metadata": {},
   "outputs": [],
   "source": []
  }
 ],
 "metadata": {
  "kernelspec": {
   "display_name": "Python 3 (ipykernel)",
   "language": "python",
   "name": "python3"
  },
  "language_info": {
   "codemirror_mode": {
    "name": "ipython",
    "version": 3
   },
   "file_extension": ".py",
   "mimetype": "text/x-python",
   "name": "python",
   "nbconvert_exporter": "python",
   "pygments_lexer": "ipython3",
   "version": "3.10.14"
  }
 },
 "nbformat": 4,
 "nbformat_minor": 5
}
