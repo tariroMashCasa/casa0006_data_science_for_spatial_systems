{
 "cells": [
  {
   "cell_type": "code",
   "execution_count": null,
   "id": "1cb519a5-f88b-4675-ab21-9da3737ec5a4",
   "metadata": {},
   "outputs": [],
   "source": [
    "import pandas as pd\n",
    "import geopandas as gp\n",
    "import matplotlib"
   ]
  },
  {
   "cell_type": "code",
   "execution_count": null,
   "id": "2c1f1f1c-be60-4b8b-b916-af8de781369a",
   "metadata": {},
   "outputs": [],
   "source": [
    "# load london gdf\n",
    "london_boundary_gdf = gp.read_file(\"data/reference_geometries/london_lad.geojson\").to_crs(4326) # convert to WGS84\n",
    "london_boundary_gdf\n",
    "# combine the london_boundary_gdf to a single geometry\n",
    "london_boundary_gdf[\"city\"] = \"london\"\n",
    "london_boundary_gdf = london_boundary_gdf[[\"city\",\"geometry\"]].dissolve(\"city\").reset_index().to_crs(27700)\n",
    "london_boundary_gdf.geometry = london_boundary_gdf.geometry.buffer(1000)\n",
    "london_boundary_gdf = london_boundary_gdf.to_crs(4326)"
   ]
  },
  {
   "cell_type": "code",
   "execution_count": null,
   "id": "6cc945c6-8062-4861-97da-256fadc2d080",
   "metadata": {},
   "outputs": [],
   "source": [
    "# load an MSOA file which has the geography code\n",
    "msoa_gdf = gp.read_file(\"data/reference_geometries/msoa_2011_geometries.geojson\")\n",
    "msoa_gdf = msoa_gdf.rename(columns={\"MSOA11CD\":\"geography code\"})[[\"geography code\",\"geometry\"]]\n",
    "msoa_gdf"
   ]
  },
  {
   "cell_type": "code",
   "execution_count": null,
   "id": "90b3c8ae-4186-43b6-9189-3875135ef06c",
   "metadata": {},
   "outputs": [],
   "source": [
    "msoa_gdf = msoa_gdf.sjoin(london_boundary_gdf, predicate=\"within\").drop(columns=\"index_right\").reset_index().drop(columns=\"index\")\n",
    "msoa_gdf[\"msoa_area\"] = msoa_gdf.to_crs(27700).geometry.area\n",
    "msoa_gdf"
   ]
  },
  {
   "cell_type": "code",
   "execution_count": null,
   "id": "50480126-4e12-4dc5-ab2c-4bcc6e12aafd",
   "metadata": {},
   "outputs": [],
   "source": [
    "# calculate the pct of continuous urban fabric in each msoa\n",
    "gdf = gp.read_file(\"data/staged_files/clc_12/Continuous urban fabric/greater_london_Continuous urban fabric_clc_12.geojson\").drop(columns=\"index_right\")\n",
    "gdf = gdf.overlay(msoa_gdf)\n",
    "gdf[\"unique_idx\"] = \"uniq_id_00\"+gdf.index.astype(str)\n",
    "gdf[\"continuous_land_area\"] = gdf.to_crs(27700).geometry.area\n",
    "continuous_urban_land_df = gdf\n",
    "# continuous_urban_land_df = gdf.sjoin(msoa_gdf)[[\"geography code\",\"continuous_land_area\",\"msoa_area\"]].drop_duplicates().reset_index()\n",
    "continuous_urban_land_df[\"pct_continuous_urban_land_clc_12\"] = continuous_urban_land_df[\"continuous_land_area\"] / continuous_urban_land_df[\"msoa_area\"]\n",
    "continuous_urban_land_df = continuous_urban_land_df[[\"geography code\",\"pct_continuous_urban_land_clc_12\"]]\n",
    "continuous_urban_land_df = continuous_urban_land_df.groupby(\"geography code\").sum()\n",
    "\n",
    "continuous_urban_land_df"
   ]
  },
  {
   "cell_type": "code",
   "execution_count": null,
   "id": "bc06b7d1-8227-45e9-979c-4c7fd8f170b8",
   "metadata": {},
   "outputs": [],
   "source": [
    "# calculate the pct of discontinuous continuous urban fabric in each msoa\n",
    "gdf = gp.read_file(\"data/staged_files/clc_12/Discontinuous urban fabric/greater_london_Discontinuous urban fabric_clc_12.geojson\").drop(columns=\"index_right\")\n",
    "gdf = gdf.overlay(msoa_gdf)#.drop(columns=\"msoa_area\"_\n",
    "# gdf\n",
    "gdf[\"unique_idx\"] = \"uniq_id_00\"+gdf.index.astype(str)\n",
    "gdf[\"discontinuous_land_area\"] = gdf.to_crs(27700).geometry.area\n",
    "gdf\n",
    "# continuous_urban_land_df = gdf.sjoin(msoa_gdf)[[\"geography code\",\"discontinuous_land_area\",\"msoa_area\"]].drop_duplicates().reset_index()\n",
    "discontinuous_urban_land_df = gdf\n",
    "discontinuous_urban_land_df[\"pct_continuous_urban_land_clc_12\"] = discontinuous_urban_land_df[\"discontinuous_land_area\"] / discontinuous_urban_land_df[\"msoa_area\"]\n",
    "discontinuous_urban_land_df = discontinuous_urban_land_df[[\"geography code\",\"pct_continuous_urban_land_clc_12\"]]\n",
    "discontinuous_urban_land_df = discontinuous_urban_land_df.groupby(\"geography code\").sum()\n",
    "discontinuous_urban_land_df"
   ]
  },
  {
   "cell_type": "code",
   "execution_count": null,
   "id": "e698e6f5-097c-49b6-bf22-8a547817ce03",
   "metadata": {},
   "outputs": [],
   "source": [
    "# add the continuous urban and discontinuous urban together\n",
    "urban_land_df = pd.concat([continuous_urban_land_df,discontinuous_urban_land_df]).reset_index()\n",
    "urban_land_df = urban_land_df.groupby(\"geography code\").sum().reset_index()\n",
    "urban_land_df"
   ]
  },
  {
   "cell_type": "code",
   "execution_count": null,
   "id": "bb034ddd-06cb-418a-9b9f-db2bc63333ba",
   "metadata": {},
   "outputs": [],
   "source": [
    "# calculate the pct of green urban areas in each msoa\n",
    "gdf = gp.read_file(\"data/staged_files/clc_12/Green urban areas/greater_london_Green urban areas_clc_12.geojson\").drop(columns=\"index_right\")\n",
    "gdf = gdf.overlay(msoa_gdf)#.drop(columns=\"msoa_area\"_\n",
    "# gdf\n",
    "gdf[\"unique_idx\"] = \"uniq_id_00\"+gdf.index.astype(str)\n",
    "gdf[\"green_urban_land_area\"] = gdf.to_crs(27700).geometry.area\n",
    "green_urban_land_df = gdf\n",
    "green_urban_land_df[\"pct_green_urban_land_area_clc_12\"] = green_urban_land_df[\"green_urban_land_area\"] / green_urban_land_df[\"msoa_area\"]\n",
    "green_urban_land_df = green_urban_land_df[[\"geography code\",\"pct_green_urban_land_area_clc_12\"]]\n",
    "green_urban_land_df = green_urban_land_df.groupby(\"geography code\").sum().reset_index()\n",
    "green_urban_land_df"
   ]
  },
  {
   "cell_type": "code",
   "execution_count": null,
   "id": "d8bbb291-1f52-48a4-a81a-65a44758cd68",
   "metadata": {},
   "outputs": [],
   "source": [
    "# calculate the pct of industrial and commercial areas  in each msoa\n",
    "gdf = gp.read_file(\"data/staged_files/clc_12/Industrial or commercial units/greater_london_Industrial or commercial units_clc_12.geojson\").drop(columns=\"index_right\")\n",
    "gdf = gdf.overlay(msoa_gdf)\n",
    "gdf[\"unique_idx\"] = \"uniq_id_00\"+gdf.index.astype(str)\n",
    "gdf[\"industrial_commerical_land_area\"] = gdf.to_crs(27700).geometry.area\n",
    "industrial_commerical_land_area_df = gdf\n",
    "industrial_commerical_land_area_df[\"pct_industrial_commerical_land_area_clc_12\"] = industrial_commerical_land_area_df[\"industrial_commerical_land_area\"] / industrial_commerical_land_area_df[\"msoa_area\"]\n",
    "industrial_commerical_land_area_df = industrial_commerical_land_area_df[[\"geography code\",\"pct_industrial_commerical_land_area_clc_12\"]]\n",
    "industrial_commerical_land_area_df = industrial_commerical_land_area_df.groupby(\"geography code\").sum().reset_index()\n",
    "industrial_commerical_land_area_df"
   ]
  },
  {
   "cell_type": "code",
   "execution_count": null,
   "id": "1f2ae463-ca0a-472a-9446-756556987b19",
   "metadata": {},
   "outputs": [],
   "source": [
    "# calculate the pct of road and rail related areas  in each msoa\n",
    "gdf = gp.read_file(\"data/staged_files/clc_12/Road and rail networks and associated land/greater_london_Road and rail networks and associated land_clc_12.geojson\").drop(columns=\"index_right\")\n",
    "gdf = gdf.overlay(msoa_gdf)\n",
    "gdf[\"unique_idx\"] = \"uniq_id_00\"+gdf.index.astype(str)\n",
    "gdf[\"road_and_rail_land_area\"] = gdf.to_crs(27700).geometry.area\n",
    "road_and_rail_land_area_df = gdf\n",
    "road_and_rail_land_area_df[\"pct_road_and_rail_land_area_clc_12\"] = road_and_rail_land_area_df[\"road_and_rail_land_area\"] / road_and_rail_land_area_df[\"msoa_area\"]\n",
    "road_and_rail_land_area_df = road_and_rail_land_area_df[[\"geography code\",\"pct_road_and_rail_land_area_clc_12\"]]\n",
    "road_and_rail_land_area_df = road_and_rail_land_area_df.groupby(\"geography code\").sum().reset_index()\n",
    "road_and_rail_land_area_df.head()"
   ]
  },
  {
   "cell_type": "code",
   "execution_count": null,
   "id": "765bb3f2-3a92-4eab-915d-d9700f83fc72",
   "metadata": {},
   "outputs": [],
   "source": [
    "# calculate the pct of sports and leisure facilities  in each msoa\n",
    "gdf = gp.read_file(\"data/staged_files/clc_12/Sport and leisure facilities/greater_london_Sport and leisure facilities_clc_12.geojson\").drop(columns=\"index_right\")\n",
    "gdf = gdf.overlay(msoa_gdf)\n",
    "gdf[\"unique_idx\"] = \"uniq_id_00\"+gdf.index.astype(str)\n",
    "gdf[\"sports_facilities_land_area\"] = gdf.to_crs(27700).geometry.area\n",
    "sports_facilities_land_area_df = gdf\n",
    "sports_facilities_land_area_df[\"pct_sports_facilities_land_area_clc_12\"] = sports_facilities_land_area_df[\"sports_facilities_land_area\"] / sports_facilities_land_area_df[\"msoa_area\"]\n",
    "sports_facilities_land_area_df = sports_facilities_land_area_df[[\"geography code\",\"pct_sports_facilities_land_area_clc_12\"]]\n",
    "sports_facilities_land_area_df = sports_facilities_land_area_df.groupby(\"geography code\").sum().reset_index()\n",
    "sports_facilities_land_area_df"
   ]
  },
  {
   "cell_type": "code",
   "execution_count": null,
   "id": "244f21e1-0df2-4474-8705-f8f5f3ff11d4",
   "metadata": {},
   "outputs": [],
   "source": [
    "# merge it all together\n",
    "output_gdf = msoa_gdf[[\"geography code\",\"geometry\"]].merge(urban_land_df, how=\"outer\").merge(green_urban_land_df, how=\"outer\").merge(industrial_commerical_land_area_df, how=\"outer\").merge(road_and_rail_land_area_df, how=\"outer\").merge(sports_facilities_land_area_df, how=\"outer\").fillna(0)\n",
    "output_gdf"
   ]
  },
  {
   "cell_type": "markdown",
   "id": "d23246ee-8122-4fea-aa2b-c4541dd0f05b",
   "metadata": {},
   "source": [
    "# Write to disk "
   ]
  },
  {
   "cell_type": "code",
   "execution_count": null,
   "id": "23bec1c3-1dec-4d24-a93f-7e18d772acba",
   "metadata": {},
   "outputs": [],
   "source": [
    "%%time\n",
    "output_gdf.drop(columns=\"geometry\").to_csv(\"data/staged_files/s1_clc_land_use_area_pct.csv\", index=False)"
   ]
  },
  {
   "cell_type": "code",
   "execution_count": null,
   "id": "bbac9fca-1d08-498f-997f-b7775ad3a5dc",
   "metadata": {},
   "outputs": [],
   "source": [
    "output_gdf.explore(\"pct_sports_facilities_land_area_clc_12\")"
   ]
  },
  {
   "cell_type": "code",
   "execution_count": null,
   "id": "7ae15bbb-3cff-4973-bd59-725be0629afe",
   "metadata": {},
   "outputs": [],
   "source": []
  }
 ],
 "metadata": {
  "kernelspec": {
   "display_name": "Python 3 (ipykernel)",
   "language": "python",
   "name": "python3"
  },
  "language_info": {
   "codemirror_mode": {
    "name": "ipython",
    "version": 3
   },
   "file_extension": ".py",
   "mimetype": "text/x-python",
   "name": "python",
   "nbconvert_exporter": "python",
   "pygments_lexer": "ipython3",
   "version": "3.10.14"
  }
 },
 "nbformat": 4,
 "nbformat_minor": 5
}
